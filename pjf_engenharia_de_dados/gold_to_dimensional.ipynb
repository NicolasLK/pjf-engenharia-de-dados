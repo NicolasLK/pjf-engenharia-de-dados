{
 "cells": [
  {
   "cell_type": "code",
   "execution_count": 0,
   "metadata": {
    "application/vnd.databricks.v1+cell": {
     "cellMetadata": {
      "byteLimit": 2048000,
      "rowLimit": 10000
     },
     "inputWidgets": {},
     "nuid": "d48b6055-3e3d-4685-a2f1-94f2fb3496d8",
     "showTitle": false,
     "title": ""
    }
   },
   "outputs": [],
   "source": [
    "from pyspark.sql import SparkSession\n",
    "import os\n",
    "\n",
    "# Iniciando uma SparkSession com Delta Lake\n",
    "spark = SparkSession.builder \\\n",
    "    .appName(\"GoldLayer\") \\\n",
    "    .config(\"spark.sql.extensions\", \"io.delta.sql.DeltaSparkSessionExtension\") \\\n",
    "    .config(\"spark.sql.catalog.spark_catalog\", \"org.apache.spark.sql.delta.catalog.DeltaCatalog\") \\\n",
    "    .getOrCreate()\n",
    "\n",
    "# Adicionando configurações S3 diretamente na sessão Spark\n",
    "spark._jsc.hadoopConfiguration().set(\"fs.s3a.access.key\", os.getenv(\"AWS_ACCESS_KEY\"))\n",
    "spark._jsc.hadoopConfiguration().set(\"fs.s3a.secret.key\", os.getenv(\"AWS_SECRET_KEY\"))\n",
    "spark._jsc.hadoopConfiguration().set(\"fs.s3a.endpoint\", \"s3.amazonaws.com\")\n",
    "spark._jsc.hadoopConfiguration().set(\"fs.s3a.impl\", \"org.apache.hadoop.fs.s3a.S3AFileSystem\")\n",
    "\n",
    "# Configurações do bucket S3\n",
    "gold_bucket = \"s3a://engenharia-dados-satc-gold-bucket\"\n",
    "\n",
    "# Carregar arquivos Delta da camada gold\n",
    "datas = spark.read.format(\"delta\").load(f'{gold_bucket}/dim_data')\n",
    "entregas = spark.read.format(\"delta\").load(f'{gold_bucket}/dim_entregas')\n",
    "pedidos = spark.read.format(\"delta\").load(f'{gold_bucket}/fato_pedidos')\n",
    "transacoes = spark.read.format(\"delta\").load(f'{gold_bucket}/dim_transacao')\n",
    "localizacoes = spark.read.format(\"delta\").load(f'{gold_bucket}/dim_localizacoes')"
   ]
  },
  {
   "cell_type": "code",
   "execution_count": 0,
   "metadata": {
    "application/vnd.databricks.v1+cell": {
     "cellMetadata": {
      "byteLimit": 2048000,
      "rowLimit": 10000
     },
     "inputWidgets": {},
     "nuid": "81906723-8c15-47e8-a1d8-667313eeacb4",
     "showTitle": false,
     "title": ""
    }
   },
   "outputs": [],
   "source": [
    "DB_HOST = os.getenv(\"DB_HOST\")\n",
    "DB_PORT = os.getenv(\"DB_PORT\")\n",
    "DB_NAME =os.getenv(\"DB_NAME\")\n",
    "\n",
    "jdbc_url = f\"jdbc:postgresql://{DB_HOST}:{DB_PORT}/{DB_NAME}\"\n",
    "connection_properties = {\n",
    "    \"user\": os.getenv(\"DB_USER\"),\n",
    "    \"password\": os.getenv(\"DB_PASSWORD\"),\n",
    "    \"driver\": \"org.postgresql.Driver\"\n",
    "}\n",
    "\n",
    "datas.write.jdbc(url=jdbc_url, table=\"dw.dim_data\", mode=\"overwrite\", properties=connection_properties)\n",
    "entregas.write.jdbc(url=jdbc_url, table=\"dw.dim_entregas\", mode=\"overwrite\", properties=connection_properties)\n",
    "pedidos.write.jdbc(url=jdbc_url, table=\"dw.fato_pedidos\", mode=\"overwrite\", properties=connection_properties)\n",
    "transacoes.write.jdbc(url=jdbc_url, table=\"dw.dim_transacoes\", mode=\"overwrite\", properties=connection_properties)\n",
    "localizacoes.write.jdbc(url=jdbc_url, table=\"dw.dim_localizacoes\", mode=\"overwrite\", properties=connection_properties)\n"
   ]
  }
 ],
 "metadata": {
  "application/vnd.databricks.v1+notebook": {
   "dashboards": [],
   "environmentMetadata": null,
   "language": "python",
   "notebookMetadata": {
    "pythonIndentUnit": 4
   },
   "notebookName": "gold_to_dimensional",
   "widgets": {}
  },
  "language_info": {
   "name": "python"
  }
 },
 "nbformat": 4,
 "nbformat_minor": 0
}
