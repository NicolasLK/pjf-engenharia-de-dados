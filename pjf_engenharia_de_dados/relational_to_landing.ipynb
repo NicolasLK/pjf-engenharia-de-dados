{
 "cells": [
  {
   "cell_type": "code",
   "execution_count": 0,
   "metadata": {
    "application/vnd.databricks.v1+cell": {
     "cellMetadata": {},
     "inputWidgets": {},
     "nuid": "8f737122-fda3-4d8e-b927-a1dae8242471",
     "showTitle": false,
     "title": ""
    }
   },
   "outputs": [],
   "source": [
    "from pyspark.sql import SparkSession\n",
    "import os\n",
    "\n",
    "spark = SparkSession.builder \\\n",
    "    .appName(\"GoldLayer\") \\\n",
    "    .config(\"spark.sql.extensions\", \"io.delta.sql.DeltaSparkSessionExtension\") \\\n",
    "    .config(\"spark.sql.catalog.spark_catalog\", \"org.apache.spark.sql.delta.catalog.DeltaCatalog\") \\\n",
    "    .getOrCreate()\n",
    "\n",
    "spark._jsc.hadoopConfiguration().set(\"fs.s3a.access.key\", os.getenv(\"AWS_ACCESS_KEY\"))\n",
    "spark._jsc.hadoopConfiguration().set(\"fs.s3a.secret.key\", os.getenv(\"AWS_SECRET_KEY\"))\n",
    "spark._jsc.hadoopConfiguration().set(\"fs.s3a.endpoint\", \"s3.amazonaws.com\")\n",
    "spark._jsc.hadoopConfiguration().set(\"fs.s3a.impl\", \"org.apache.hadoop.fs.s3a.S3AFileSystem\")\n",
    "\n",
    "DB_HOST = os.getenv(\"DB_RELACIONAL_HOST\")\n",
    "DB_PORT = os.getenv(\"DB_RELACIONAL_PORT\")\n",
    "DB_NAME = os.getenv(\"DB_RELACIONAL_NAME\")\n",
    "\n",
    "jdbc_url = f\"jdbc:postgresql://{DB_HOST}:{DB_PORT}/{DB_NAME}\"\n",
    "connection_properties = {\n",
    "    \"user\": os.getenv(\"DB_RELACIONAL_USER\"),\n",
    "    \"password\": os.getenv(\"DB_RELACIONAL_PASSWORD\"),\n",
    "    \"driver\": \"org.postgresql.Driver\"\n",
    "}\n",
    "\n",
    "landing_bucket = \"engenharia-dados-satc-landing-zone-bucket\"\n",
    "\n",
    "df_geo = spark.read.jdbc(url=jdbc_url, table=\"(SELECT * FROM dl.geo) AS tmp_geo\", properties=connection_properties)\n",
    "df_clientes = spark.read.jdbc(url=jdbc_url, table=\"(SELECT * FROM dl.extrairnovosclientes('')) AS tmp_clientes\", properties=connection_properties)\n",
    "df_vendedores = spark.read.jdbc(url=jdbc_url, table=\"(SELECT * FROM dl.extrairnovosvendedores('')) AS tmp_vendedores\", properties=connection_properties)\n",
    "df_pedidos = spark.read.jdbc(url=jdbc_url, table=\"(SELECT * FROM dl.extrairnovospedidos('')) AS tmp_pedidos\", properties=connection_properties)\n",
    "df_dadospedidos = spark.read.jdbc(url=jdbc_url, table=\"(SELECT * FROM dl.extrair_dados_pedidos('')) AS tmp_dadospedidos\", properties=connection_properties)\n",
    "df_pagamentos = spark.read.jdbc(url=jdbc_url, table=\"(SELECT * FROM dl.extrairpagamentos('')) AS tmp_pagamentos\", properties=connection_properties)\n",
    "df_produtos = spark.read.jdbc(url=jdbc_url, table=\"(SELECT * FROM dl.extrair_dados_produtos('')) AS tmp_produtos\", properties=connection_properties)\n",
    "\n",
    "df_geo.write.mode(\"overwrite\").option(\"header\", \"true\").csv(f\"s3a://{landing_bucket}/geo.csv\")\n",
    "df_clientes.write.mode(\"overwrite\").option(\"header\", \"true\").csv(f\"s3a://{landing_bucket}/clientes.csv\")\n",
    "df_vendedores.write.mode(\"overwrite\").option(\"header\", \"true\").csv(f\"s3a://{landing_bucket}/vendedores.csv\")\n",
    "df_pedidos.write.mode(\"overwrite\").option(\"header\", \"true\").csv(f\"s3a://{landing_bucket}/pedidos.csv\")\n",
    "df_dadospedidos.write.mode(\"overwrite\").option(\"header\", \"true\").csv(f\"s3a://{landing_bucket}/dadospedidos.csv\")\n",
    "df_pagamentos.write.mode(\"overwrite\").option(\"header\", \"true\").csv(f\"s3a://{landing_bucket}/pagamentos.csv\")\n",
    "df_produtos.write.mode(\"overwrite\").option(\"header\", \"true\").csv(f\"s3a://{landing_bucket}/dadosprodutos.csv\")"
   ]
  }
 ],
 "metadata": {
  "application/vnd.databricks.v1+notebook": {
   "dashboards": [],
   "environmentMetadata": null,
   "language": "python",
   "notebookMetadata": {
    "pythonIndentUnit": 4
   },
   "notebookName": "relational_to_landing",
   "widgets": {}
  }
 },
 "nbformat": 4,
 "nbformat_minor": 0
}
