{
 "cells": [
  {
   "cell_type": "code",
   "execution_count": 0,
   "metadata": {
    "application/vnd.databricks.v1+cell": {
     "cellMetadata": {
      "byteLimit": 2048000,
      "rowLimit": 10000
     },
     "inputWidgets": {},
     "nuid": "39a4feff-a348-4b92-a19f-5a952820c016",
     "showTitle": false,
     "title": ""
    }
   },
   "outputs": [],
   "source": [
    "from pyspark.sql import SparkSession\n",
    "from pyspark.sql.functions import col, to_date, monotonically_increasing_id\n",
    "from pyspark.sql.types import IntegerType, DoubleType \n",
    "from datetime import datetime, timedelta\n",
    "import math\n",
    "import os\n",
    "\n",
    "# Iniciando uma SparkSession com Delta Lake\n",
    "spark = SparkSession.builder \\\n",
    "    .appName(\"SilverLayer\") \\\n",
    "    .config(\"spark.sql.extensions\", \"io.delta.sql.DeltaSparkSessionExtension\") \\\n",
    "    .config(\"spark.sql.catalog.spark_catalog\", \"org.apache.spark.sql.delta.catalog.DeltaCatalog\") \\\n",
    "    .getOrCreate()\n",
    "\n",
    "# Adicionando configurações S3 diretamente na sessão Spark\n",
    "spark._jsc.hadoopConfiguration().set(\"fs.s3a.access.key\", os.getenv(\"AWS_ACCESS_KEY\"))\n",
    "spark._jsc.hadoopConfiguration().set(\"fs.s3a.secret.key\", os.getenv(\"AWS_SECRET_KEY\"))\n",
    "spark._jsc.hadoopConfiguration().set(\"fs.s3a.endpoint\", \"s3.amazonaws.com\")\n",
    "spark._jsc.hadoopConfiguration().set(\"fs.s3a.impl\", \"org.apache.hadoop.fs.s3a.S3AFileSystem\")\n",
    "\n",
    "# Configurações do bucket S3\n",
    "silver_bucket = \"s3a://engenharia-dados-satc-silver-bucket\"\n",
    "gold_bucket = \"s3a://engenharia-dados-satc-gold-bucket\"\n",
    "\n",
    "# Carregar arquivos Delta da camada silver\n",
    "datas = spark.read.format(\"delta\").load(f'{silver_bucket}/dim_data')\n",
    "pedidos = spark.read.format(\"delta\").load(f'{silver_bucket}/pedidos')\n",
    "localizacoes = spark.read.format(\"delta\").load(f'{silver_bucket}/localizacoes')\n"
   ]
  },
  {
   "cell_type": "code",
   "execution_count": 0,
   "metadata": {
    "application/vnd.databricks.v1+cell": {
     "cellMetadata": {
      "byteLimit": 2048000,
      "rowLimit": 10000
     },
     "inputWidgets": {},
     "nuid": "93094794-8ada-407a-812e-5cfa1c97b92b",
     "showTitle": false,
     "title": ""
    }
   },
   "outputs": [],
   "source": [
    "# Renomear colunas e adicionar IDs sequenciais\n",
    "\n",
    "\n",
    "pedidos = pedidos.withColumn('sk_pedido', monotonically_increasing_id())\n",
    "localizacoes = localizacoes.withColumn('sk_loc', col('cep').cast(IntegerType()))\n",
    "\n",
    "# Calcular volume e massa dos pedidos\n",
    "pedidos = pedidos.withColumn('volume', (col('comprimento_cm') * col('altura_cm') * col('largura_cm')) / (100*100*100))\n",
    "pedidos = pedidos.withColumn('massa', col('peso_g') / 1000)"
   ]
  },
  {
   "cell_type": "code",
   "execution_count": 0,
   "metadata": {
    "application/vnd.databricks.v1+cell": {
     "cellMetadata": {
      "byteLimit": 2048000,
      "rowLimit": 10000
     },
     "inputWidgets": {},
     "nuid": "8e3619ce-c206-4171-b6c2-e3ca01a426da",
     "showTitle": false,
     "title": ""
    }
   },
   "outputs": [],
   "source": [
    "# Selecionar colunas para transações\n",
    "transacoes = pedidos.select(\n",
    "    col('sk_pedido').alias('sk_pedido'),\n",
    "    col('idcliente').alias('idcliente'),\n",
    "    col('idvendedor').alias('idvendedor'),\n",
    "    col('pagamento').alias('pagamento'),\n",
    "    col('parcelas').alias('parcelas')\n",
    ")\n",
    "\n",
    "### CRIANDO ENTREGAS ###\n",
    "entregas = pedidos.select(\n",
    "    col('sk_pedido').alias('sk_pedido'),\n",
    "    col('categoria').alias('categoria'),\n",
    "    col('statuspedido').alias('statuspedido'),\n",
    "    col('cepcliente').alias('cepcliente'),\n",
    "    col('cepvendedor').alias('cepvendedor')\n",
    ")\n",
    "entregas = entregas.join(localizacoes.withColumnRenamed('sk_loc', 'destino'), entregas.cepcliente == localizacoes.cep, 'left')\n",
    "\n",
    "entregas = entregas.select(\n",
    "    col('sk_pedido').alias('sk_pedido'),\n",
    "    col('categoria').alias('categoria'),\n",
    "    col('statuspedido').alias('statuspedido'),\n",
    "    col('destino').alias('destino'),\n",
    "    col('cepvendedor').alias('cepvendedor')\n",
    ")\n",
    "\n",
    "entregas = entregas.join(localizacoes.withColumnRenamed('sk_loc', 'origem'), entregas.cepvendedor == localizacoes.cep, 'left')\n",
    "\n",
    "entregas = entregas.select(\n",
    "    col('sk_pedido').alias('sk_pedido'),\n",
    "    col('categoria').alias('categoria'),\n",
    "    col('statuspedido').alias('statuspedido'),\n",
    "    col('origem').alias('origem'),\n",
    "    col('destino').alias('destino')\n",
    ")\n"
   ]
  },
  {
   "cell_type": "code",
   "execution_count": 0,
   "metadata": {
    "application/vnd.databricks.v1+cell": {
     "cellMetadata": {
      "byteLimit": 2048000,
      "rowLimit": 10000
     },
     "inputWidgets": {},
     "nuid": "5477ef3c-745a-4638-9480-fb02e58576c4",
     "showTitle": false,
     "title": ""
    }
   },
   "outputs": [],
   "source": [
    "### CRIANDO PEDIDOS ###\n",
    "\n",
    "pedidos = pedidos.withColumn('datacompra', to_date(col('datacompra')))\n",
    "pedidos = pedidos.withColumn('datacliente', to_date(col('datacliente')))\n",
    "pedidos = pedidos.withColumn('prazo', to_date(col('prazo')))\n",
    "\n",
    "pedidos = pedidos.withColumn('ped_diasentrega', (col('datacliente').cast('long') - col('datacompra').cast('long')) / (24*60*60))\n",
    "pedidos = pedidos.withColumn('ped_diasprazo', (col('prazo').cast('long') - col('datacompra').cast('long')) / (24*60*60))\n",
    "\n",
    "fato = pedidos.select(\n",
    "    col('sk_pedido').alias('sk_pedido'),\n",
    "    col('datacompra').alias('datacompra'),\n",
    "    col('iditem').alias('iditem'),\n",
    "    col('preco').alias('preco'),\n",
    "    col('frete').alias('frete'),\n",
    "    col('volume').alias('volume'),\n",
    "    col('massa').alias('massa'),\n",
    "    col('ped_diasentrega').alias('ped_diasentrega'),\n",
    "    col('ped_diasprazo').alias('ped_diasprazo')\n",
    ")\n",
    "\n",
    "datas = datas.withColumn('dt_data', to_date(col('dt_data')))\n",
    "fato = fato.join(datas, fato.datacompra == datas.dt_data, 'left').select(\n",
    "    col('sk_pedido').alias('sk_pedido'),\n",
    "    col('sk_data').alias('sk_data'),\n",
    "    col('iditem').alias('iditem'),\n",
    "    col('preco').alias('preco'),\n",
    "    col('frete').alias('frete'),\n",
    "    col('volume').alias('volume'),\n",
    "    col('massa').alias('massa'),\n",
    "    col('ped_diasentrega').alias('ped_diasentrega'),\n",
    "    col('ped_diasprazo').alias('ped_diasprazo')\n",
    ")"
   ]
  },
  {
   "cell_type": "code",
   "execution_count": 0,
   "metadata": {
    "application/vnd.databricks.v1+cell": {
     "cellMetadata": {
      "byteLimit": 2048000,
      "rowLimit": 10000
     },
     "inputWidgets": {},
     "nuid": "1560c4e1-f484-4238-92a3-3db5779658c4",
     "showTitle": false,
     "title": ""
    }
   },
   "outputs": [],
   "source": [
    "entregas = entregas.select(\n",
    "    col('sk_pedido').alias('sk_pedido'),\n",
    "    col('categoria').alias('categoria'),\n",
    "    col('statuspedido').alias('statuspedido'),\n",
    "    col('origem').alias('origem'),\n",
    "    col('destino').alias('destino')\n",
    ")"
   ]
  },
  {
   "cell_type": "code",
   "execution_count": 0,
   "metadata": {
    "application/vnd.databricks.v1+cell": {
     "cellMetadata": {
      "byteLimit": 2048000,
      "rowLimit": 10000
     },
     "inputWidgets": {},
     "nuid": "686502b6-fc57-400d-9715-c8fe8dcd653e",
     "showTitle": false,
     "title": ""
    }
   },
   "outputs": [],
   "source": [
    "localizacoes = localizacoes.withColumn('latitude', col('latitude').cast('double'))\n",
    "localizacoes = localizacoes.withColumn('longitude', col('longitude').cast('double'))\n",
    "\n",
    "trans = entregas.join(localizacoes, col(\"origem\") == col(\"sk_loc\"), how=\"left\")\n",
    "\n",
    "trans = trans.select(\n",
    "    col('sk_pedido').alias('sk_pedido'),\n",
    "    col('latitude').alias('lat1'),\n",
    "    col('longitude').alias('long1'),\n",
    "    col('destino').alias('destino')\n",
    ")\n",
    "\n",
    "trans = entregas.join(localizacoes, col(\"destino\") == col(\"sk_loc\"), how=\"left\")\n",
    "\n",
    "trans = trans.select(\n",
    "    col('sk_pedido').alias('pedido'),\n",
    "    col('latitude').alias('lat1'),\n",
    "    col('longitude').alias('long1'),\n",
    "    col('latitude').alias('lat2'),\n",
    "    col('longitude').alias('long2'),\n",
    ")\n",
    "\n",
    "pedidos = pedidos.join(trans, col(\"sk_pedido\") == col(\"pedido\"), how=\"left\")"
   ]
  },
  {
   "cell_type": "code",
   "execution_count": 0,
   "metadata": {
    "application/vnd.databricks.v1+cell": {
     "cellMetadata": {
      "byteLimit": 2048000,
      "rowLimit": 10000
     },
     "inputWidgets": {},
     "nuid": "94d04048-bdf7-44d7-a91d-1afc43d8afd2",
     "showTitle": false,
     "title": ""
    }
   },
   "outputs": [],
   "source": [
    "# Função Haversine\n",
    "def haversine(lat1, lon1, lat2, lon2):\n",
    "    if lat1 is None or lon1 is None or lat2 is None or lon2 is None:\n",
    "        return None\n",
    "\n",
    "    R = 6371.0  # Raio da Terra em quilômetros\n",
    "\n",
    "    lat1_rad = math.radians(lat1)\n",
    "    lon1_rad = math.radians(lon1)\n",
    "    lat2_rad = math.radians(lat2)\n",
    "    lon2_rad = math.radians(lon2)\n",
    "\n",
    "    dlat = lat2_rad - lat1_rad\n",
    "    dlon = lon2_rad - lon1_rad\n",
    "\n",
    "    a = math.sin(dlat / 2)**2 + math.cos(lat1_rad) * math.cos(lat2_rad) * math.sin(dlon / 2)**2\n",
    "    c = 2 * math.atan2(math.sqrt(a), math.sqrt(1 - a))\n",
    "\n",
    "    distance = R * c\n",
    "    return distance\n",
    "\n",
    "# Registrar a função como UDF\n",
    "haversine_udf = udf(haversine, DoubleType())\n",
    "\n",
    "# Aplicar a UDF ao DataFrame\n",
    "pedidos = pedidos.withColumn('distancia_km', haversine_udf(pedidos['lat1'], pedidos['long1'], pedidos['lat2'], pedidos['long2']))\n",
    "\n",
    "pedidos = pedidos.drop('lat1', 'long1', 'lat2', 'long2')"
   ]
  },
  {
   "cell_type": "code",
   "execution_count": 0,
   "metadata": {
    "application/vnd.databricks.v1+cell": {
     "cellMetadata": {
      "byteLimit": 2048000,
      "rowLimit": 10000
     },
     "inputWidgets": {},
     "nuid": "0a72937f-1896-405f-9535-b5cad83e549c",
     "showTitle": false,
     "title": ""
    }
   },
   "outputs": [],
   "source": [
    "### SALVAR TABELAS NA CAMADA GOLD ###\n",
    "\n",
    "datas.write.format(\"delta\").mode('overwrite').save(f'{gold_bucket}/dim_data')\n",
    "fato.write.format(\"delta\").mode('overwrite').save(f'{gold_bucket}/fato_pedidos')\n",
    "entregas.write.format(\"delta\").mode('overwrite').save(f'{gold_bucket}/dim_entregas')\n",
    "transacoes.write.format(\"delta\").mode('overwrite').save(f'{gold_bucket}/dim_transacao')\n",
    "localizacoes.write.format(\"delta\").mode('overwrite').save(f'{gold_bucket}/dim_localizacoes')"
   ]
  }
 ],
 "metadata": {
  "application/vnd.databricks.v1+notebook": {
   "dashboards": [],
   "environmentMetadata": null,
   "language": "python",
   "notebookMetadata": {
    "pythonIndentUnit": 4
   },
   "notebookName": "silver",
   "widgets": {}
  },
  "colab": {
   "authorship_tag": "ABX9TyOvx0I0rpHRp7odGmGbQJYk",
   "provenance": [
    {
     "file_id": "1LKM3O-HN6mUK_SF9TvWnzbe2gWFGdGLm",
     "timestamp": 1719013372947
    }
   ]
  },
  "kernelspec": {
   "display_name": "Python 3",
   "name": "python3"
  },
  "language_info": {
   "codemirror_mode": {
    "name": "ipython",
    "version": 3
   },
   "file_extension": ".py",
   "mimetype": "text/x-python",
   "name": "python",
   "nbconvert_exporter": "python",
   "pygments_lexer": "ipython3",
   "version": "3.11.6"
  }
 },
 "nbformat": 4,
 "nbformat_minor": 0
}
