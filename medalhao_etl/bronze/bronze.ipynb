{
 "cells": [
  {
   "cell_type": "code",
   "execution_count": 0,
   "metadata": {
    "application/vnd.databricks.v1+cell": {
     "cellMetadata": {
      "byteLimit": 2048000,
      "rowLimit": 10000
     },
     "inputWidgets": {},
     "nuid": "02d455ad-55d1-486e-adf4-5d13924154be",
     "showTitle": false,
     "title": ""
    }
   },
   "outputs": [
    {
     "output_type": "stream",
     "name": "stdout",
     "output_type": "stream",
     "text": [
      "+--------------------+--------------------+--------------------+--------------------+------+-------------------+------+-----+------------+-------------------+-------------------+-------------------+-------------------+--------------------+-----------+-----+--------+------+-----------+--------------+----------+--------------------+------------+-----------------+----------------+------+--------------+---------+----------+\n|           idproduto|           idcliente|          idvendedor|            idpedido|iditem|              prazo| preco|frete|statuspedido|         datacompra|     data_aprovacao| datatransportadora|        datacliente|dataestimada_entrega|  pagamento|tipos|parcelas| valor|cepvendedor|idunicocliente|cepcliente|           categoria|tamanho_nome|tamanho_descricao|quantidade_fotos|peso_g|comprimento_cm|altura_cm|largura_cm|\n+--------------------+--------------------+--------------------+--------------------+------+-------------------+------+-----+------------+-------------------+-------------------+-------------------+-------------------+--------------------+-----------+-----+--------+------+-----------+--------------+----------+--------------------+------------+-----------------+----------------+------+--------------+---------+----------+\n|350688d9dc1e75ff9...|96d649da0cc4ff33b...|f7ccf836d21b2fb1d...|fffe41c64501cc87c...|     1|2018-06-12 17:10:13|  43.0|12.79|   delivered|2018-06-09 17:00:18|2018-06-09 17:10:13|2018-06-11 14:11:00|2018-06-14 17:56:26| 2018-06-28 00:00:00|credit_card|    1|       1| 55.79|      14940|          NULL|      NULL|     cama_mesa_banho|          47|              511|               1|   600|            30|        3|        19|\n|350688d9dc1e75ff9...|96d649da0cc4ff33b...|f7ccf836d21b2fb1d...|fffe41c64501cc87c...|     1|2018-06-12 17:10:13|  43.0|12.79|   delivered|2018-06-09 17:00:18|2018-06-09 17:10:13|2018-06-11 14:11:00|2018-06-14 17:56:26| 2018-06-28 00:00:00|credit_card|    1|       1| 55.79|      14940|          NULL|      NULL|     cama_mesa_banho|          47|              511|               1|   600|            30|        3|        19|\n|9c422a519119dcad7...|b5e6afd5a41800fdf...|2b3e4a2a3ea8e0193...|fffe18544ffabc95d...|     1|2017-08-21 00:04:32| 55.99| 8.72|   delivered|2017-08-14 23:02:59|2017-08-15 00:04:32|2017-08-15 19:02:53|2017-08-16 21:59:40| 2017-08-25 00:00:00|credit_card|    1|       3| 64.71|       4733|          NULL|      NULL|                NULL|        NULL|             NULL|            NULL|  NULL|          NULL|     NULL|      NULL|\n|9c422a519119dcad7...|b5e6afd5a41800fdf...|2b3e4a2a3ea8e0193...|fffe18544ffabc95d...|     1|2017-08-21 00:04:32| 55.99| 8.72|   delivered|2017-08-14 23:02:59|2017-08-15 00:04:32|2017-08-15 19:02:53|2017-08-16 21:59:40| 2017-08-25 00:00:00|credit_card|    1|       3| 64.71|       4733|          NULL|      NULL|                NULL|        NULL|             NULL|            NULL|  NULL|          NULL|     NULL|      NULL|\n|72a30483855e2eafc...|29309aa813182aadd...|c3cfdc648177fdbbb...|fffce4705a9662cd7...|     1|2017-10-30 17:14:25|  99.9|16.95|   delivered|2017-10-23 17:07:56|2017-10-24 17:14:25|2017-10-26 15:13:14|2017-10-28 12:22:22| 2017-11-10 00:00:00|credit_card|    1|       3|116.85|      80610|          NULL|      NULL|                NULL|        NULL|             NULL|            NULL|  NULL|          NULL|     NULL|      NULL|\n|72a30483855e2eafc...|29309aa813182aadd...|c3cfdc648177fdbbb...|fffce4705a9662cd7...|     1|2017-10-30 17:14:25|  99.9|16.95|   delivered|2017-10-23 17:07:56|2017-10-24 17:14:25|2017-10-26 15:13:14|2017-10-28 12:22:22| 2017-11-10 00:00:00|credit_card|    1|       3|116.85|      80610|          NULL|      NULL|                NULL|        NULL|             NULL|            NULL|  NULL|          NULL|     NULL|      NULL|\n|32e07fd915822b076...|84c5d4fbaf120aae3...|f3c38ab652836d21d...|fffcd46ef2263f404...|     1|2018-07-20 04:31:48| 350.0|36.53|   delivered|2018-07-14 10:26:46|2018-07-17 04:31:48|2018-07-17 08:05:00|2018-07-23 20:31:55| 2018-08-01 00:00:00|     boleto|    1|       1|386.53|       1206|          NULL|      NULL|informatica_acess...|          31|              232|               1|  8950|            45|       26|        38|\n|32e07fd915822b076...|84c5d4fbaf120aae3...|f3c38ab652836d21d...|fffcd46ef2263f404...|     1|2018-07-20 04:31:48| 350.0|36.53|   delivered|2018-07-14 10:26:46|2018-07-17 04:31:48|2018-07-17 08:05:00|2018-07-23 20:31:55| 2018-08-01 00:00:00|     boleto|    1|       1|386.53|       1206|          NULL|      NULL|informatica_acess...|          31|              232|               1|  8950|            45|       26|        38|\n|4aa6014eceb682077...|b51593916b4b8e0d6...|b8bc237ba3788b23d...|fffc94f6ce00a0058...|     1|2018-05-02 04:11:01|299.99|43.41|   delivered|2018-04-23 13:57:06|2018-04-25 04:11:01|2018-04-25 12:09:00|2018-05-10 22:56:40| 2018-05-18 00:00:00|     boleto|    1|       1| 343.4|      88303|          NULL|      NULL|utilidades_domest...|          43|             1002|               3| 10150|            89|       15|        40|\n|4aa6014eceb682077...|b51593916b4b8e0d6...|b8bc237ba3788b23d...|fffc94f6ce00a0058...|     1|2018-05-02 04:11:01|299.99|43.41|   delivered|2018-04-23 13:57:06|2018-04-25 04:11:01|2018-04-25 12:09:00|2018-05-10 22:56:40| 2018-05-18 00:00:00|     boleto|    1|       1| 343.4|      88303|          NULL|      NULL|utilidades_domest...|          43|             1002|               3| 10150|            89|       15|        40|\n|6f0169f259bb0ff43...|11a0e041ea6e7e218...|213b25e6f54661939...|fffbee3b5462987e6...|     1|2018-06-28 09:58:03|119.85|20.03|   delivered|2018-06-19 09:27:48|2018-06-19 09:58:03|2018-06-29 13:46:00|2018-07-05 17:51:08| 2018-07-23 00:00:00|credit_card|    1|       3|139.88|      13321|          NULL|      NULL|     casa_construcao|          58|              918|               6|  1050|            16|       20|        16|\n|6f0169f259bb0ff43...|11a0e041ea6e7e218...|213b25e6f54661939...|fffbee3b5462987e6...|     1|2018-06-28 09:58:03|119.85|20.03|   delivered|2018-06-19 09:27:48|2018-06-19 09:58:03|2018-06-29 13:46:00|2018-07-05 17:51:08| 2018-07-23 00:00:00|credit_card|    1|       3|139.88|      13321|          NULL|      NULL|     casa_construcao|          58|              918|               6|  1050|            16|       20|        16|\n|43423cdffde7fda63...|4d3abb73ceb86353a...|b1fc4f64df5a0e8b6...|fffb9224b6fc7c43e...|     2|2017-11-03 02:55:58|  55.0|34.19|   delivered|2017-10-27 16:51:00|2017-10-28 02:55:58|2017-11-10 19:31:52|2017-11-17 19:41:42| 2017-11-27 00:00:00|     boleto|    1|       1|356.76|      24440|          NULL|      NULL|  relogios_presentes|          41|             1159|               4|   350|            16|       14|        11|\n|43423cdffde7fda63...|4d3abb73ceb86353a...|b1fc4f64df5a0e8b6...|fffb9224b6fc7c43e...|     2|2017-11-03 02:55:58|  55.0|34.19|   delivered|2017-10-27 16:51:00|2017-10-28 02:55:58|2017-11-10 19:31:52|2017-11-17 19:41:42| 2017-11-27 00:00:00|     boleto|    1|       1|356.76|      24440|          NULL|      NULL|  relogios_presentes|          41|             1159|               4|   350|            16|       14|        11|\n|43423cdffde7fda63...|4d3abb73ceb86353a...|b1fc4f64df5a0e8b6...|fffb9224b6fc7c43e...|     4|2017-11-03 02:55:58|  55.0|34.19|   delivered|2017-10-27 16:51:00|2017-10-28 02:55:58|2017-11-10 19:31:52|2017-11-17 19:41:42| 2017-11-27 00:00:00|     boleto|    1|       1|356.76|      24440|          NULL|      NULL|  relogios_presentes|          41|             1159|               4|   350|            16|       14|        11|\n|43423cdffde7fda63...|4d3abb73ceb86353a...|b1fc4f64df5a0e8b6...|fffb9224b6fc7c43e...|     4|2017-11-03 02:55:58|  55.0|34.19|   delivered|2017-10-27 16:51:00|2017-10-28 02:55:58|2017-11-10 19:31:52|2017-11-17 19:41:42| 2017-11-27 00:00:00|     boleto|    1|       1|356.76|      24440|          NULL|      NULL|  relogios_presentes|          41|             1159|               4|   350|            16|       14|        11|\n|43423cdffde7fda63...|4d3abb73ceb86353a...|b1fc4f64df5a0e8b6...|fffb9224b6fc7c43e...|     3|2017-11-03 02:55:58|  55.0|34.19|   delivered|2017-10-27 16:51:00|2017-10-28 02:55:58|2017-11-10 19:31:52|2017-11-17 19:41:42| 2017-11-27 00:00:00|     boleto|    1|       1|356.76|      24440|          NULL|      NULL|  relogios_presentes|          41|             1159|               4|   350|            16|       14|        11|\n|43423cdffde7fda63...|4d3abb73ceb86353a...|b1fc4f64df5a0e8b6...|fffb9224b6fc7c43e...|     3|2017-11-03 02:55:58|  55.0|34.19|   delivered|2017-10-27 16:51:00|2017-10-28 02:55:58|2017-11-10 19:31:52|2017-11-17 19:41:42| 2017-11-27 00:00:00|     boleto|    1|       1|356.76|      24440|          NULL|      NULL|  relogios_presentes|          41|             1159|               4|   350|            16|       14|        11|\n|43423cdffde7fda63...|4d3abb73ceb86353a...|b1fc4f64df5a0e8b6...|fffb9224b6fc7c43e...|     1|2017-11-03 02:55:58|  55.0|34.19|   delivered|2017-10-27 16:51:00|2017-10-28 02:55:58|2017-11-10 19:31:52|2017-11-17 19:41:42| 2017-11-27 00:00:00|     boleto|    1|       1|356.76|      24440|          NULL|      NULL|  relogios_presentes|          41|             1159|               4|   350|            16|       14|        11|\n|43423cdffde7fda63...|4d3abb73ceb86353a...|b1fc4f64df5a0e8b6...|fffb9224b6fc7c43e...|     1|2017-11-03 02:55:58|  55.0|34.19|   delivered|2017-10-27 16:51:00|2017-10-28 02:55:58|2017-11-10 19:31:52|2017-11-17 19:41:42| 2017-11-27 00:00:00|     boleto|    1|       1|356.76|      24440|          NULL|      NULL|  relogios_presentes|          41|             1159|               4|   350|            16|       14|        11|\n+--------------------+--------------------+--------------------+--------------------+------+-------------------+------+-----+------------+-------------------+-------------------+-------------------+-------------------+--------------------+-----------+-----+--------+------+-----------+--------------+----------+--------------------+------------+-----------------+----------------+------+--------------+---------+----------+\nonly showing top 20 rows\n\n+--------------------+--------------------+--------------------+--------------------+------+-------------------+------+-----+------------+-------------------+-------------------+-------------------+-------------------+--------------------+-----------+-----+--------+------+-----------+--------------------+----------+--------------------+------------+-----------------+----------------+------+--------------+---------+----------+\n|           idproduto|           idcliente|          idvendedor|            idpedido|iditem|              prazo| preco|frete|statuspedido|         datacompra|     data_aprovacao| datatransportadora|        datacliente|dataestimada_entrega|  pagamento|tipos|parcelas| valor|cepvendedor|      idunicocliente|cepcliente|           categoria|tamanho_nome|tamanho_descricao|quantidade_fotos|peso_g|comprimento_cm|altura_cm|largura_cm|\n+--------------------+--------------------+--------------------+--------------------+------+-------------------+------+-----+------------+-------------------+-------------------+-------------------+-------------------+--------------------+-----------+-----+--------+------+-----------+--------------------+----------+--------------------+------------+-----------------+----------------+------+--------------+---------+----------+\n|764292b2b0f73f77a...|f6cc7b845fde9d4e7...|bd23da73548133471...|fff90cdcb3b2e6cfb...|     1|2017-11-30 10:11:28|  89.9|11.83|   delivered|2017-11-24 09:03:47|2017-11-24 10:11:58|2017-11-27 22:44:45|2017-11-29 02:24:25| 2017-12-08 00:00:00|credit_card|    1|       1|101.73|       3971|0e1dad535a5b2359a...|      4119|                NULL|        NULL|             NULL|            NULL|  NULL|          NULL|     NULL|      NULL|\n|764292b2b0f73f77a...|f6cc7b845fde9d4e7...|bd23da73548133471...|fff90cdcb3b2e6cfb...|     1|2017-11-30 10:11:28|  89.9|11.83|   delivered|2017-11-24 09:03:47|2017-11-24 10:11:58|2017-11-27 22:44:45|2017-11-29 02:24:25| 2017-12-08 00:00:00|credit_card|    1|       1|101.73|       3971|0e1dad535a5b2359a...|      4119|                NULL|        NULL|             NULL|            NULL|  NULL|          NULL|     NULL|      NULL|\n|a2da86fa759178e9e...|e79f494063c25f5c6...|ea8482cd71df3c196...|fff8286f77788ab8b...|     1|2018-07-05 22:31:13| 24.99|15.28|   delivered|2018-07-03 21:53:22|2018-07-05 16:22:01|2018-07-04 14:33:00|2018-07-06 14:51:40| 2018-07-20 00:00:00|credit_card|    1|       4| 40.27|       4160|8d488a7bc7c301bd9...|     30881|                NULL|        NULL|             NULL|            NULL|  NULL|          NULL|     NULL|      NULL|\n|a2da86fa759178e9e...|e79f494063c25f5c6...|ea8482cd71df3c196...|fff8286f77788ab8b...|     1|2018-07-05 22:31:13| 24.99|15.28|   delivered|2018-07-03 21:53:22|2018-07-05 16:22:01|2018-07-04 14:33:00|2018-07-06 14:51:40| 2018-07-20 00:00:00|credit_card|    1|       4| 40.27|       4160|8d488a7bc7c301bd9...|     30881|                NULL|        NULL|             NULL|            NULL|  NULL|          NULL|     NULL|      NULL|\n|30ac6df06dc59ad72...|f46860fe1b5458561...|0dd184061fb0eaa7c...|ffef9e1de5dd07b39...|     1|2018-01-17 10:14:27|  94.0| 21.5|   delivered|2018-01-11 10:02:13|2018-01-11 10:14:27|2018-01-15 22:34:16|2018-02-06 01:05:12| 2018-02-09 00:00:00|credit_card|    1|       5| 115.5|       7031|7cd07164e3693dd38...|     21020|utilidades_domest...|          53|             1034|               2| 16550|            22|       65|        40|\n|30ac6df06dc59ad72...|f46860fe1b5458561...|0dd184061fb0eaa7c...|ffef9e1de5dd07b39...|     1|2018-01-17 10:14:27|  94.0| 21.5|   delivered|2018-01-11 10:02:13|2018-01-11 10:14:27|2018-01-15 22:34:16|2018-02-06 01:05:12| 2018-02-09 00:00:00|credit_card|    1|       5| 115.5|       7031|7cd07164e3693dd38...|     21020|utilidades_domest...|          53|             1034|               2| 16550|            22|       65|        40|\n|801a695ff5c0c1497...|e85ff8cc3cc2c09bd...|48162d548f5b1b11b...|ffea406a848c8afe4...|     1|2017-03-21 17:16:36| 146.9| 15.2|   delivered|2017-03-15 17:16:36|2017-03-15 17:16:36|2017-03-16 12:54:46|2017-04-05 18:48:06| 2017-04-05 00:00:00|     boleto|    1|       1| 162.1|      13403|ffe3e199b9d0b7fb7...|     38411|                NULL|        NULL|             NULL|            NULL|  NULL|          NULL|     NULL|      NULL|\n|801a695ff5c0c1497...|e85ff8cc3cc2c09bd...|48162d548f5b1b11b...|ffea406a848c8afe4...|     1|2017-03-21 17:16:36| 146.9| 15.2|   delivered|2017-03-15 17:16:36|2017-03-15 17:16:36|2017-03-16 12:54:46|2017-04-05 18:48:06| 2017-04-05 00:00:00|     boleto|    1|       1| 162.1|      13403|ffe3e199b9d0b7fb7...|     38411|                NULL|        NULL|             NULL|            NULL|  NULL|          NULL|     NULL|      NULL|\n|8ab83b53b9a953395...|f813294c06241ae26...|431050a06a317f2b3...|ffe146c862ce518ad...|     1|2018-07-04 22:10:03|  83.8|18.69|   delivered|2018-06-28 21:44:06|2018-06-28 22:10:03|2018-07-03 13:39:00|2018-07-14 07:04:34| 2018-07-26 00:00:00|credit_card|    1|       4|102.49|       2475|1bf1788a9e4d31061...|     75813|                NULL|        NULL|             NULL|            NULL|  NULL|          NULL|     NULL|      NULL|\n|8ab83b53b9a953395...|f813294c06241ae26...|431050a06a317f2b3...|ffe146c862ce518ad...|     1|2018-07-04 22:10:03|  83.8|18.69|   delivered|2018-06-28 21:44:06|2018-06-28 22:10:03|2018-07-03 13:39:00|2018-07-14 07:04:34| 2018-07-26 00:00:00|credit_card|    1|       4|102.49|       2475|1bf1788a9e4d31061...|     75813|                NULL|        NULL|             NULL|            NULL|  NULL|          NULL|     NULL|      NULL|\n|a05ed2eb565616b13...|fe259b2c6d1b0081c...|7ff588a03c2aeae4f...|ffc0249fed109d5d0...|     1|2018-08-15 14:45:15| 24.99| 7.44|   delivered|2018-08-13 14:32:07|2018-08-13 14:45:15|2018-08-13 13:55:00|2018-08-14 23:58:57| 2018-08-16 00:00:00|credit_card|    1|       1| 32.43|       7183|9e6e4184323d87459...|      4112|                NULL|        NULL|             NULL|            NULL|  NULL|          NULL|     NULL|      NULL|\n|a05ed2eb565616b13...|fe259b2c6d1b0081c...|7ff588a03c2aeae4f...|ffc0249fed109d5d0...|     1|2018-08-15 14:45:15| 24.99| 7.44|   delivered|2018-08-13 14:32:07|2018-08-13 14:45:15|2018-08-13 13:55:00|2018-08-14 23:58:57| 2018-08-16 00:00:00|credit_card|    1|       1| 32.43|       7183|9e6e4184323d87459...|      4112|                NULL|        NULL|             NULL|            NULL|  NULL|          NULL|     NULL|      NULL|\n|cce55549bb816a12e...|fe67d071eefb7f489...|6560211a19b47992c...|ffbcdac3da2c2f23b...|     1|2018-06-21 18:56:49|  78.0|18.65|   delivered|2018-06-19 18:38:34|2018-06-19 18:56:49|2018-06-20 10:46:00|2018-06-28 17:36:31| 2018-07-19 00:00:00|credit_card|    1|       1| 96.65|       5849|6a140ba4cf08e0d89...|     99500|  relogios_presentes|          53|              356|               4|   300|            16|        2|        11|\n|cce55549bb816a12e...|fe67d071eefb7f489...|6560211a19b47992c...|ffbcdac3da2c2f23b...|     1|2018-06-21 18:56:49|  78.0|18.65|   delivered|2018-06-19 18:38:34|2018-06-19 18:56:49|2018-06-20 10:46:00|2018-06-28 17:36:31| 2018-07-19 00:00:00|credit_card|    1|       1| 96.65|       5849|6a140ba4cf08e0d89...|     99500|  relogios_presentes|          53|              356|               4|   300|            16|        2|        11|\n|64fb265487de22386...|e8ebbc2a8acc77cf4...|4a3ca9315b744ce9f...|ffa4713aab0ab633f...|     1|2018-07-23 17:23:22|  79.9|26.86|   delivered|2018-07-19 17:08:41|2018-07-19 17:23:22|2018-07-20 12:16:00|2018-07-27 12:58:53| 2018-08-07 00:00:00|credit_card|    1|       3|106.76|      14940|314fcf9fe0f949782...|     36240|                NULL|        NULL|             NULL|            NULL|  NULL|          NULL|     NULL|      NULL|\n|64fb265487de22386...|e8ebbc2a8acc77cf4...|4a3ca9315b744ce9f...|ffa4713aab0ab633f...|     1|2018-07-23 17:23:22|  79.9|26.86|   delivered|2018-07-19 17:08:41|2018-07-19 17:23:22|2018-07-20 12:16:00|2018-07-27 12:58:53| 2018-08-07 00:00:00|credit_card|    1|       3|106.76|      14940|314fcf9fe0f949782...|     36240|                NULL|        NULL|             NULL|            NULL|  NULL|          NULL|     NULL|      NULL|\n|2f178dc91b792930e...|f37c2634dfc8ac0ce...|75d34ebb1bd0bd7dd...|ffa1dd97810de91a0...|     1|2017-06-06 22:42:56|434.99|20.32|   delivered|2017-05-22 22:35:09|2017-05-23 22:42:56|2017-05-25 10:33:08|2017-06-06 16:40:29| 2017-06-28 00:00:00|    voucher|    2|       1|418.73|      41820|26cbea974bc958bc0...|     72260|                NULL|        NULL|             NULL|            NULL|  NULL|          NULL|     NULL|      NULL|\n|2f178dc91b792930e...|f37c2634dfc8ac0ce...|75d34ebb1bd0bd7dd...|ffa1dd97810de91a0...|     1|2017-06-06 22:42:56|434.99|20.32|   delivered|2017-05-22 22:35:09|2017-05-23 22:42:56|2017-05-25 10:33:08|2017-06-06 16:40:29| 2017-06-28 00:00:00|    voucher|    2|       1|418.73|      41820|26cbea974bc958bc0...|     72260|                NULL|        NULL|             NULL|            NULL|  NULL|          NULL|     NULL|      NULL|\n|2f178dc91b792930e...|f37c2634dfc8ac0ce...|75d34ebb1bd0bd7dd...|ffa1dd97810de91a0...|     1|2017-06-06 22:42:56|434.99|20.32|   delivered|2017-05-22 22:35:09|2017-05-23 22:42:56|2017-05-25 10:33:08|2017-06-06 16:40:29| 2017-06-28 00:00:00|credit_card|    1|       1| 36.58|      41820|26cbea974bc958bc0...|     72260|                NULL|        NULL|             NULL|            NULL|  NULL|          NULL|     NULL|      NULL|\n|2f178dc91b792930e...|f37c2634dfc8ac0ce...|75d34ebb1bd0bd7dd...|ffa1dd97810de91a0...|     1|2017-06-06 22:42:56|434.99|20.32|   delivered|2017-05-22 22:35:09|2017-05-23 22:42:56|2017-05-25 10:33:08|2017-06-06 16:40:29| 2017-06-28 00:00:00|credit_card|    1|       1| 36.58|      41820|26cbea974bc958bc0...|     72260|                NULL|        NULL|             NULL|            NULL|  NULL|          NULL|     NULL|      NULL|\n+--------------------+--------------------+--------------------+--------------------+------+-------------------+------+-----+------------+-------------------+-------------------+-------------------+-------------------+--------------------+-----------+-----+--------+------+-----------+--------------------+----------+--------------------+------------+-----------------+----------------+------+--------------+---------+----------+\nonly showing top 20 rows\n\n"
     ]
    }
   ],
   "source": [
    "from pyspark.sql import SparkSession\n",
    "from pyspark.sql.functions import col, when, dayofweek, year, month, quarter\n",
    "from pyspark.sql.types import IntegerType, StringType, StructType, StructField\n",
    "from datetime import datetime, timedelta\n",
    "import os\n",
    "\n",
    "# Iniciando uma SparkSession com Delta Lake\n",
    "spark = SparkSession.builder \\\n",
    "    .appName(\"BronzeLayer\") \\\n",
    "    .config(\"spark.sql.extensions\", \"io.delta.sql.DeltaSparkSessionExtension\") \\\n",
    "    .config(\"spark.sql.catalog.spark_catalog\", \"org.apache.spark.sql.delta.catalog.DeltaCatalog\") \\\n",
    "    .getOrCreate()\n",
    "\n",
    "# Adicionando configurações S3 diretamente na sessão Spark\n",
    "spark._jsc.hadoopConfiguration().set(\"fs.s3a.access.key\", os.getenv(\"AWS_ACCESS_KEY\"))\n",
    "spark._jsc.hadoopConfiguration().set(\"fs.s3a.secret.key\", os.getenv(\"AWS_SECRET_KEY\"))\n",
    "spark._jsc.hadoopConfiguration().set(\"fs.s3a.endpoint\", \"s3.amazonaws.com\")\n",
    "spark._jsc.hadoopConfiguration().set(\"fs.s3a.impl\", \"org.apache.hadoop.fs.s3a.S3AFileSystem\")\n",
    "\n",
    "# Configurações do bucket S3\n",
    "bronze_bucket = \"s3a://engenharia-dados-satc-bronze-bucket\"\n",
    "silver_bucket = \"s3a://engenharia-dados-satc-silver-bucket\"\n",
    "\n",
    "# Carregar arquivos Delta da camada bronze\n",
    "localizacoes = spark.read.format(\"delta\").load(f'{bronze_bucket}/localizacoes')\n",
    "produtos = spark.read.format(\"delta\").load(f'{bronze_bucket}/dadosprodutos')\n",
    "pedidos = spark.read.format(\"delta\").load(f'{bronze_bucket}/pedidos')\n",
    "clientes = spark.read.format(\"delta\").load(f'{bronze_bucket}/clientes')\n",
    "vendedores = spark.read.format(\"delta\").load(f'{bronze_bucket}/vendedores')\n",
    "pagamentos = spark.read.format(\"delta\").load(f'{bronze_bucket}/pagamentos')\n",
    "dadospedidos = spark.read.format(\"delta\").load(f'{bronze_bucket}/dadospedidos')\n",
    "\n",
    "# Renomear colunas\n",
    "clientes = clientes.withColumnRenamed('idgeralcliente', 'idcliente')\n",
    "produtos = produtos.withColumnRenamed('id_produto', 'idproduto')\n",
    "\n",
    "### CRIA DIM_DATA ###\n",
    "\n",
    "# Gerar uma lista de datas de 2015 até hoje + 1 dia\n",
    "end_date = datetime.now() + timedelta(days=1)\n",
    "dates = [end_date - timedelta(days=x) for x in range((end_date - datetime(2015, 1, 1)).days + 1)]\n",
    "\n",
    "# Criar um DataFrame com as datas\n",
    "schema = StructType([\n",
    "    StructField('dt_data', StringType(), True)\n",
    "])\n",
    "df = spark.createDataFrame([(d.strftime('%Y-%m-%d'),) for d in dates], schema=schema)\n",
    "\n",
    "df = df.withColumn('dt_diasemana', dayofweek(col('dt_data')))\n",
    "df = df.withColumn('dt_diasemana_ord', dayofweek(col('dt_data')))\n",
    "df = df.withColumn('dt_mesano', col('dt_data').substr(0, 7))\n",
    "df = df.withColumn('dt_mesano_ord', (year(col('dt_data')) - 2015) * 12 + month(col('dt_data')))\n",
    "df = df.withColumn('dt_trimestre', quarter(col('dt_data')))\n",
    "df = df.withColumn('dt_trimestre_ord', (year(col('dt_data')) - 2015) * 4 + quarter(col('dt_data')))\n",
    "df = df.withColumn('dt_ano', year(col('dt_data')))\n",
    "df = df.withColumn('sk_data', year(col('dt_data')))\n",
    "\n",
    "# Reorganizar as colunas conforme o formato especificado\n",
    "datas = df.select('sk_data', 'dt_data', 'dt_diasemana', 'dt_diasemana_ord', 'dt_mesano', 'dt_mesano_ord', 'dt_trimestre', 'dt_trimestre_ord', 'dt_ano')\n",
    "\n",
    "### CRIA PEDIDOS ###\n",
    "\n",
    "temp = pedidos.join(dadospedidos, on='idpedido', how='left') \\\n",
    "    .join(pagamentos, on='idpedido', how='left') \\\n",
    "    .join(vendedores, on='idvendedor', how='left') \\\n",
    "    .join(clientes, on='idcliente', how='left') \\\n",
    "    .join(produtos, on='idproduto', how='left')\n",
    "\n",
    "temp.show()\n",
    "temp.filter(temp['cepcliente'].isNotNull()).show()\n",
    "\n",
    "### SALVAR TABELAS NA CAMADA SILVER ###\n",
    "\n",
    "temp.write.format(\"delta\").mode('overwrite').save(f'{silver_bucket}/pedidos')\n",
    "localizacoes.write.format(\"delta\").mode('overwrite').save(f'{silver_bucket}/localizacoes')\n",
    "datas.write.format(\"delta\").mode('overwrite').save(f'{silver_bucket}/dim_data')\n"
   ]
  }
 ],
 "metadata": {
  "application/vnd.databricks.v1+notebook": {
   "dashboards": [],
   "environmentMetadata": null,
   "language": "python",
   "notebookMetadata": {
    "pythonIndentUnit": 4
   },
   "notebookName": "bronze",
   "widgets": {}
  },
  "colab": {
   "authorship_tag": "ABX9TyPjLIz+k0GqDw1wZFAdZyFM",
   "provenance": []
  },
  "kernelspec": {
   "display_name": "Python 3",
   "name": "python3"
  },
  "language_info": {
   "codemirror_mode": {
    "name": "ipython",
    "version": 3
   },
   "file_extension": ".py",
   "mimetype": "text/x-python",
   "name": "python",
   "nbconvert_exporter": "python",
   "pygments_lexer": "ipython3",
   "version": "3.11.6"
  }
 },
 "nbformat": 4,
 "nbformat_minor": 0
}
